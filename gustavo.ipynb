{
 "cells": [
  {
   "cell_type": "markdown",
   "metadata": {},
   "source": [
    "<programa> ::= <declaracoes> <atribuicoes>\n",
    "\n",
    "<declaracoes> ::= <declaracao> |\n",
    "                   <declaracao> <declaracoes>\n",
    "\n",
    "<declaracao> ::= variavel texto |\n",
    "                  variavel inteiro\n",
    "\n",
    "<atribuicoes> ::= <atribuicao> |\n",
    "                   <atribuicao> <atribuicoes>\n",
    "\n",
    "<atribuicao> ::= variavel = <expressao>\n",
    "\n",
    "<expressao> ::= variavel |\n",
    "                 numero |\n",
    "                 <expressao> mais <expressao>\n",
    "                 <expressao> menos <expressao>\n",
    "                 <expressao> dividido_por <expressao>\n",
    "                 <expressao> multiplicado_por <expressao>\n",
    "\n",
    "<se-senao> ::= se <expressao> <comparador> <expressao> faz <atribuicao> ; |\n",
    "                se <expressao> <comparador> <expressao> faz <se-senao>; |\n",
    "                se <expressao> <comparador> <expressao> faz <atribuicao> caso_contrario_faz <atribuicao>; |\n",
    "                se <expressao> <comparador> <expressao> faz <atribuicao> caso_contrario_faz <se-senao>; |\n",
    "                se <expressao> <comparador> <expressao> faz <se-senao> caso_contrario_faz <atribuicao>; |\n",
    "                se <expressao> <comparador> <expressao> faz <se-senao> caso_contrario_faz <se-senao>; |\n"
   ]
  },
  {
   "cell_type": "code",
   "execution_count": null,
   "metadata": {},
   "outputs": [],
   "source": [
    "#imports\n",
    "from rply import LexerGenerator"
   ]
  },
  {
   "cell_type": "code",
   "execution_count": null,
   "metadata": {},
   "outputs": [],
   "source": [
    "lg = LexerGenerator()\n",
    "\n",
    "lg.add('NUMERO', r'\\d+')\n",
    "lg.add('MAIS', r'mais')\n",
    "lg.add('MENOS', r'menos')\n",
    "lg.add('MULTIPLICACAO', r'multiplicado_por')\n",
    "lg.add('DIVISAO', r'dividido_por')\n",
    "\n",
    "\n",
    "lg.add('INTEIRO', r'inteiro')\n",
    "lg.add('TEXTO', r'texto')\n",
    "lg.add('PONTOVIRGULA', r'\\;')\n",
    "lg.add('VARIAVEL', r'[a-zA-z][a-zA-z0-9]*')\n",
    "lg.add('IGUAL', r'=')\n",
    "#adicionar if\n",
    "\n",
    "\n",
    "lg.ignore('\\s+')\n",
    "lexer = lg.build()"
   ]
  }
 ],
 "metadata": {
  "kernelspec": {
   "display_name": "env",
   "language": "python",
   "name": "python3"
  },
  "language_info": {
   "codemirror_mode": {
    "name": "ipython",
    "version": 3
   },
   "file_extension": ".py",
   "mimetype": "text/x-python",
   "name": "python",
   "nbconvert_exporter": "python",
   "pygments_lexer": "ipython3",
   "version": "3.11.4"
  }
 },
 "nbformat": 4,
 "nbformat_minor": 2
}
