{
 "cells": [
  {
   "cell_type": "raw",
   "metadata": {},
   "source": [
    "<programa> ::= <declaracoes> <atribuicoes>\n",
    "\n",
    "<declaracoes> ::= <declaracao> |\n",
    "                   <declaracao> <declaracoes>\n",
    "\n",
    "<declaracao> ::= variavel texto |\n",
    "                  variavel inteiro\n",
    "\n",
    "<atribuicoes> ::= <atribuicao> |\n",
    "                   <atribuicao> <atribuicoes>\n",
    "\n",
    "<atribuicao> ::= variavel = <expressao>\n",
    "\n",
    "<expressao> ::= variavel |\n",
    "                 numero |\n",
    "                 <expressao> mais <expressao>\n",
    "                 <expressao> menos <expressao>\n",
    "                 <expressao> dividido_por <expressao>\n",
    "                 <expressao> multiplicado_por <expressao>\n",
    "\n",
    "<se-senao> ::= se <expressao> <comparador> <expressao> faz <atribuicao> ; |\n",
    "                se <expressao> <comparador> <expressao> faz <se-senao>; |\n",
    "                se <expressao> <comparador> <expressao> faz <atribuicao> caso_contrario_faz <atribuicao>; |\n",
    "                se <expressao> <comparador> <expressao> faz <atribuicao> caso_contrario_faz <se-senao>; |\n",
    "                se <expressao> <comparador> <expressao> faz <se-senao> caso_contrario_faz <atribuicao>; |\n",
    "                se <expressao> <comparador> <expressao> faz <se-senao> caso_contrario_faz <se-senao>; |\n"
   ]
  },
  {
   "cell_type": "code",
   "execution_count": 3,
   "metadata": {},
   "outputs": [],
   "source": [
    "#imports\n",
    "from rply import LexerGenerator"
   ]
  },
  {
   "cell_type": "code",
   "execution_count": 4,
   "metadata": {},
   "outputs": [],
   "source": [
    "lg = LexerGenerator()\n",
    "\n",
    "lg.add('NUMERO', r'\\d+')\n",
    "lg.add('MAIS', r'mais')\n",
    "lg.add('MENOS', r'menos')\n",
    "lg.add('MULTIPLICACAO', r'multiplicado_por')\n",
    "lg.add('DIVISAO', r'dividido_por')\n",
    "lg.add('ABREPARENTESES', r'\\(')\n",
    "lg.add('FECHAPARENTESES', r'\\)')\n",
    "\n",
    "lg.add('IGUAL', r'recebe')\n",
    "lg.add('INTEIRO', r'inteiro')\n",
    "lg.add('TEXTO', r'texto')\n",
    "lg.add('PONTOVIRGULA', r'\\;')\n",
    "\n",
    "#adicionar if\n",
    "lg.add('SE', r'se')\n",
    "lg.add('FAZ', r'faz')\n",
    "lg.add('CASO_CONTRARIO', r'caso_contrario_faz')\n",
    "lg.add('FIM_SE', r'fim_se')\n",
    "lg.add('ENQUANTO', r'enquanto')\n",
    "lg.add('PARA_CADA', r'para_cada')\n",
    "\n",
    "lg.add('IDENTIFICADOR', r'[a-zA-z][a-zA-z0-9]*')\n",
    "lg.add('COMPARADOR','for_igual_a')\n",
    "lg.add('COMPARADOR','for_diferente_de')\n",
    "lg.add('COMPARADOR','for_maior_ou_igual_a')\n",
    "lg.add('COMPARADOR','for_menor_ou_igual_a')\n",
    "lg.add('COMPARADOR','for_maior_que')\n",
    "lg.add('COMPARADOR','for_menor_que')\n",
    "\n",
    "\n",
    "lg.ignore('\\s+')\n",
    "lexer = lg.build()"
   ]
  },
  {
   "cell_type": "code",
   "execution_count": 6,
   "metadata": {},
   "outputs": [
    {
     "name": "stdout",
     "output_type": "stream",
     "text": [
      "Token('VARIAVEL', 'x')\n",
      "Token('VARIAVEL', 'gustavo')\n",
      "Token('VARIAVEL', 'y')\n",
      "Token('INTEIRO', 'inteiro')\n",
      "Token('VARIAVEL', 'x')\n",
      "Token('IGUAL', 'recebe')\n",
      "Token('NUMERO', '10')\n",
      "Token('VARIAVEL', 'y')\n",
      "Token('IGUAL', 'recebe')\n",
      "Token('NUMERO', '20')\n"
     ]
    }
   ],
   "source": [
    "tokens = lexer.lex(\"x gustavo y inteiro x recebe 10 y recebe 20\")\n",
    "for token in tokens:\n",
    "    print(token)"
   ]
  }
 ],
 "metadata": {
  "kernelspec": {
   "display_name": "env",
   "language": "python",
   "name": "python3"
  },
  "language_info": {
   "codemirror_mode": {
    "name": "ipython",
    "version": 3
   },
   "file_extension": ".py",
   "mimetype": "text/x-python",
   "name": "python",
   "nbconvert_exporter": "python",
   "pygments_lexer": "ipython3",
   "version": "3.11.4"
  }
 },
 "nbformat": 4,
 "nbformat_minor": 2
}
