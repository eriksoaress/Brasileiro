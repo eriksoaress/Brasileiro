{
 "cells": [
  {
   "cell_type": "markdown",
   "metadata": {},
   "source": [
    "<programa> ::= <declaracoes> <atribuicoes>\n",
    "\n",
    "<declaracoes> ::= <declaracao> |\n",
    "                   <declaracao> <declaracoes>\n",
    "\n",
    "<declaracao> ::= variavel texto |\n",
    "                  variavel inteiro\n",
    "\n",
    "<atribuicoes> ::= <atribuicao> |\n",
    "                   <atribuicao> <atribuicoes>\n",
    "\n",
    "<atribuicao> ::= variavel = <expressao>\n",
    "\n",
    "<expressao> ::= variavel |\n",
    "                 numero |\n",
    "                 <expressao> mais <expressao>\n",
    "                 <expressao> menos <expressao>\n",
    "                 <expressao> dividido_por <expressao>\n",
    "                 <expressao> multiplicado_por <expressao>\n",
    "\n",
    "<se-senao> ::= se <expressao> <comparador> <expressao> faz <atribuicao> ; |\n",
    "                se <expressao> <comparador> <expressao> faz <se-senao>; |\n",
    "                se <expressao> <comparador> <expressao> faz <atribuicao> caso_contrario_faz <atribuicao>; |\n",
    "                se <expressao> <comparador> <expressao> faz <atribuicao> caso_contrario_faz <se-senao>; |\n",
    "                se <expressao> <comparador> <expressao> faz <se-senao> caso_contrario_faz <atribuicao>; |\n",
    "                se <expressao> <comparador> <expressao> faz <se-senao> caso_contrario_faz <se-senao>; |\n"
   ]
  }
 ],
 "metadata": {
  "kernelspec": {
   "display_name": "env",
   "language": "python",
   "name": "python3"
  },
  "language_info": {
   "codemirror_mode": {
    "name": "ipython",
    "version": 3
   },
   "file_extension": ".py",
   "mimetype": "text/x-python",
   "name": "python",
   "nbconvert_exporter": "python",
   "pygments_lexer": "ipython3",
   "version": "3.11.4"
  }
 },
 "nbformat": 4,
 "nbformat_minor": 2
}
