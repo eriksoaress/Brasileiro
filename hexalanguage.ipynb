{
 "cells": [
  {
   "cell_type": "raw",
   "metadata": {},
   "source": [
    "<program> ::= (<declarations> <instructions>)\n",
    "\n",
    "<declarations> ::= <declaration> |\n",
    "                   <declaration> <declarations>\n",
    "\n",
    "<declaration> ::= (id text) |\n",
    "                  (id int)\n",
    "\n",
    "<instructions> ::= <instruction> |\n",
    "                   <instruction> <instructions>\n",
    "\n",
    "<instruction> ::= (id = <expression>)\n",
    "\n",
    "<expression> ::= id |\n",
    "                 value |\n",
    "                 (000001 <expression> <expression>)\n",
    "                 (000010 <expression> <expression>)\n",
    "                 (000011 <expression> <expression>)\n",
    "                 (000100 <expression> <expression>)"
   ]
  },
  {
   "cell_type": "raw",
   "metadata": {},
   "source": [
    "from rply import LexerGenerator\n",
    "\n",
    "lg = LexerGenerator()\n",
    "\n",
    "lg.add('NUMBER', r'\\d+(\\.\\d+)?')\n",
    "lg.add('PLUS', r'\\+')\n",
    "lg.add('MINUS', r'-')\n",
    "lg.add('MUL', r'\\*')\n",
    "lg.add('DIV', r'/')\n",
    "lg.add('OPEN_PARENS', r'\\(')\n",
    "lg.add('CLOSE_PARENS', r'\\)')\n",
    "\n",
    "lg.add('TINTEGER', r'Tinteger')\n",
    "lg.add('TFLOAT', r'Tfloat')\n",
    "lg.add('ID', r'[a-zA-z][a-zA-z0-9]*')\n",
    "lg.add('EQUALS', r'=')\n",
    "\n",
    "lg.ignore('\\s+')\n",
    "\n",
    "lexer = lg.build()\n"
   ]
  },
  {
   "cell_type": "code",
   "execution_count": 3,
   "metadata": {},
   "outputs": [],
   "source": [
    "import tkinter as tk\n",
    "\n",
    "def converter_maiusculas():\n",
    "    texto_entrada = entrada.get()\n",
    "    texto_saida = texto_entrada.upper()\n",
    "    resultado.config(text=texto_saida)\n",
    "\n",
    "# Configurar a janela\n",
    "#configuração do tamanho da janela\n",
    "\n",
    "\n",
    "janela = tk.Tk()\n",
    "janela.title(\"Brasileiro a sua linguagem\")\n",
    "janela.geometry(\"500x400\")\n",
    "\n",
    "# Criar um rótulo\n",
    "rotulo = tk.Label(janela, text=\"Digite seu código:\")\n",
    "rotulo.pack()\n",
    "\n",
    "# Criar uma caixa de entrada de texto\n",
    "entrada = tk.Entry(janela)\n",
    "entrada.pack()\n",
    "\n",
    "# Criar um botão para realizar a conversão\n",
    "botao = tk.Button(janela, text=\"Converter para Maiúsculas\", command=converter_maiusculas)\n",
    "botao.pack()\n",
    "\n",
    "# Criar um rótulo para mostrar o resultado\n",
    "resultado = tk.Label(janela, text=\"\")\n",
    "resultado.pack()\n",
    "\n",
    "# Iniciar o loop da interface gráfica\n",
    "janela.mainloop()"
   ]
  },
  {
   "cell_type": "markdown",
   "metadata": {},
   "source": []
  },
  {
   "cell_type": "markdown",
   "metadata": {},
   "source": []
  }
 ],
 "metadata": {
  "kernelspec": {
   "display_name": "Python 3",
   "language": "python",
   "name": "python3"
  },
  "language_info": {
   "codemirror_mode": {
    "name": "ipython",
    "version": 3
   },
   "file_extension": ".py",
   "mimetype": "text/x-python",
   "name": "python",
   "nbconvert_exporter": "python",
   "pygments_lexer": "ipython3",
   "version": "3.11.4"
  }
 },
 "nbformat": 4,
 "nbformat_minor": 2
}
