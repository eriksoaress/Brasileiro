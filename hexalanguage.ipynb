{
 "cells": [
  {
   "cell_type": "raw",
   "metadata": {},
   "source": [
    "<program> ::= (<declarations> <instructions>)\n",
    "\n",
    "<declarations> ::= <declaration> |\n",
    "                   <declaration> <declarations>\n",
    "\n",
    "<declaration> ::= (id text) |\n",
    "                  (id int)\n",
    "\n",
    "<instructions> ::= <instruction> |\n",
    "                   <instruction> <instructions>\n",
    "\n",
    "<instruction> ::= (id = <expression>)\n",
    "\n",
    "<expression> ::= id |\n",
    "                 value |\n",
    "                 (000001 <expression> <expression>)\n",
    "                 (000010 <expression> <expression>)\n",
    "                 (000011 <expression> <expression>)\n",
    "                 (000100 <expression> <expression>)"
   ]
  },
  {
   "cell_type": "markdown",
   "metadata": {},
   "source": []
  },
  {
   "cell_type": "markdown",
   "metadata": {},
   "source": []
  }
 ],
 "metadata": {
  "kernelspec": {
   "display_name": "Python 3",
   "language": "python",
   "name": "python3"
  },
  "language_info": {
   "codemirror_mode": {
    "name": "ipython",
    "version": 3
   },
   "file_extension": ".py",
   "mimetype": "text/x-python",
   "name": "python",
   "nbconvert_exporter": "python",
   "pygments_lexer": "ipython3",
   "version": "3.11.3"
  }
 },
 "nbformat": 4,
 "nbformat_minor": 2
}
